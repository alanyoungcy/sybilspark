{
 "cells": [
  {
   "cell_type": "code",
   "execution_count": null,
   "id": "9a751246-e2b3-486a-944e-74eadad6d348",
   "metadata": {},
   "outputs": [],
   "source": []
  }
 ],
 "metadata": {
  "kernelspec": {
   "display_name": "",
   "name": ""
  },
  "language_info": {
   "name": ""
  }
 },
 "nbformat": 4,
 "nbformat_minor": 5
}
